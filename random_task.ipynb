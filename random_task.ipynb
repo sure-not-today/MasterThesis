{
 "cells": [
  {
   "cell_type": "code",
   "execution_count": 3,
   "metadata": {},
   "outputs": [
    {
     "name": "stdout",
     "output_type": "stream",
     "text": [
      "Waiting for drone to connect...\n"
     ]
    },
    {
     "ename": "CancelledError",
     "evalue": "",
     "output_type": "error",
     "traceback": [
      "\u001b[0;31m---------------------------------------------------------------------------\u001b[0m",
      "\u001b[0;31mCancelledError\u001b[0m                            Traceback (most recent call last)",
      "Cell \u001b[0;32mIn[3], line 9\u001b[0m\n\u001b[1;32m      6\u001b[0m \u001b[39mawait\u001b[39;00m drone\u001b[39m.\u001b[39mconnect(system_address\u001b[39m=\u001b[39m\u001b[39m\"\u001b[39m\u001b[39mudp://:14540\u001b[39m\u001b[39m\"\u001b[39m)\n\u001b[1;32m      8\u001b[0m \u001b[39mprint\u001b[39m(\u001b[39m\"\u001b[39m\u001b[39mWaiting for drone to connect...\u001b[39m\u001b[39m\"\u001b[39m)\n\u001b[0;32m----> 9\u001b[0m \u001b[39masync\u001b[39;00m \u001b[39mfor\u001b[39;00m state \u001b[39min\u001b[39;00m drone\u001b[39m.\u001b[39mcore\u001b[39m.\u001b[39mconnection_state():\n\u001b[1;32m     10\u001b[0m     \u001b[39mif\u001b[39;00m state\u001b[39m.\u001b[39mis_connected:\n\u001b[1;32m     11\u001b[0m         \u001b[39mprint\u001b[39m(\u001b[39mf\u001b[39m\u001b[39m\"\u001b[39m\u001b[39m-- Connected to drone!\u001b[39m\u001b[39m\"\u001b[39m)\n",
      "File \u001b[0;32m~/.local/lib/python3.10/site-packages/mavsdk/core.py:101\u001b[0m, in \u001b[0;36mCore.connection_state\u001b[0;34m(self)\u001b[0m\n\u001b[1;32m     98\u001b[0m connection_state_stream \u001b[39m=\u001b[39m \u001b[39mself\u001b[39m\u001b[39m.\u001b[39m_stub\u001b[39m.\u001b[39mSubscribeConnectionState(request)\n\u001b[1;32m    100\u001b[0m \u001b[39mtry\u001b[39;00m:\n\u001b[0;32m--> 101\u001b[0m     \u001b[39masync\u001b[39;00m \u001b[39mfor\u001b[39;00m response \u001b[39min\u001b[39;00m connection_state_stream:\n\u001b[1;32m    105\u001b[0m         \u001b[39myield\u001b[39;00m ConnectionState\u001b[39m.\u001b[39mtranslate_from_rpc(response\u001b[39m.\u001b[39mconnection_state)\n\u001b[1;32m    106\u001b[0m \u001b[39mfinally\u001b[39;00m:\n",
      "File \u001b[0;32m~/.local/lib/python3.10/site-packages/aiogrpc/utils.py:154\u001b[0m, in \u001b[0;36mWrappedIterator.__anext__\u001b[0;34m(self)\u001b[0m\n\u001b[1;32m    152\u001b[0m     \u001b[39mself\u001b[39m\u001b[39m.\u001b[39m_next_future\u001b[39m.\u001b[39madd_done_callback(cb)\n\u001b[1;32m    153\u001b[0m \u001b[39mtry\u001b[39;00m:\n\u001b[0;32m--> 154\u001b[0m     \u001b[39mreturn\u001b[39;00m \u001b[39mawait\u001b[39;00m asyncio\u001b[39m.\u001b[39mshield(\u001b[39mself\u001b[39m\u001b[39m.\u001b[39m_next_future)\n\u001b[1;32m    155\u001b[0m \u001b[39mfinally\u001b[39;00m:\n\u001b[1;32m    156\u001b[0m     \u001b[39mif\u001b[39;00m \u001b[39mself\u001b[39m\u001b[39m.\u001b[39m_next_future \u001b[39mand\u001b[39;00m \u001b[39mself\u001b[39m\u001b[39m.\u001b[39m_next_future\u001b[39m.\u001b[39mdone():\n",
      "\u001b[0;31mCancelledError\u001b[0m: "
     ]
    }
   ],
   "source": [
    "import asyncio\n",
    "from mavsdk import System\n",
    "from mavsdk.action import OrbitYawBehavior\n",
    "\n",
    "drone = System()\n",
    "await drone.connect(system_address=\"udp://:14540\")\n",
    "\n",
    "print(\"Waiting for drone to connect...\")\n",
    "async for state in drone.core.connection_state():\n",
    "    if state.is_connected:\n",
    "        print(f\"-- Connected to drone!\")\n",
    "        break\n",
    "\n",
    "async for health in drone.telemetry.health():\n",
    "    if health.is_global_position_ok and health.is_home_position_ok:\n",
    "        print(\"-- Global position state is good enough for flying.\")\n",
    "        break\n",
    "\n",
    "await drone.action.set_takeoff_altitude(2)\n",
    "\n",
    "print (await drone.action.get_takeoff_altitude())\n",
    "\n",
    "await drone.action.arm()\n",
    "\n",
    "await drone.action.takeoff()\n",
    "\n",
    "async for tel in drone.telemetry.in_air():\n",
    "    if tel == True:\n",
    "        print(\"drone in air\")\n",
    "        break\n",
    "    else:\n",
    "        print(\"not in air yet\")\n",
    "\n",
    "await drone.action.hold()\n",
    "\n",
    "await asyncio.sleep(5)\n",
    "\n",
    "position = await drone.telemetry.position().__aiter__().__anext__()\n",
    "print(position.latitude_deg)\n",
    "orbit_height = position.absolute_altitude_m+10\n",
    "\n",
    "await drone.action.land()"
   ]
  }
 ],
 "metadata": {
  "kernelspec": {
   "display_name": "Python 3",
   "language": "python",
   "name": "python3"
  },
  "language_info": {
   "codemirror_mode": {
    "name": "ipython",
    "version": 3
   },
   "file_extension": ".py",
   "mimetype": "text/x-python",
   "name": "python",
   "nbconvert_exporter": "python",
   "pygments_lexer": "ipython3",
   "version": "3.10.12"
  },
  "orig_nbformat": 4
 },
 "nbformat": 4,
 "nbformat_minor": 2
}
