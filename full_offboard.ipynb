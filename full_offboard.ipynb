{
 "cells": [
  {
   "cell_type": "code",
   "execution_count": 1,
   "metadata": {},
   "outputs": [
    {
     "name": "stdout",
     "output_type": "stream",
     "text": [
      "Waiting for drone to connect...\n",
      "-- Connected to drone!\n",
      "-- Global position state is good enough for flying.\n",
      "-- Arming\n",
      "False\n",
      "-- Setting initial setpoint\n",
      "-- Starting offboard\n"
     ]
    }
   ],
   "source": [
    "import asyncio\n",
    "from mavsdk import System\n",
    "from mavsdk.offboard import PositionNedYaw, OffboardError, VelocityNedYaw\n",
    "\n",
    "drone = System()\n",
    "await drone.connect(system_address=\"udp://:14540\")\n",
    "\n",
    "print(\"Waiting for drone to connect...\")\n",
    "async for state in drone.core.connection_state():\n",
    "    if state.is_connected:\n",
    "        print(f\"-- Connected to drone!\")\n",
    "        break\n",
    "\n",
    "async for health in drone.telemetry.health():\n",
    "    if health.is_global_position_ok and health.is_home_position_ok:\n",
    "        print(\"-- Global position state is good enough for flying.\")\n",
    "        break\n",
    "\n",
    "print(\"-- Arming\")\n",
    "await drone.action.arm()\n",
    "\n",
    "print(await drone.offboard.is_active())\n",
    "\n",
    "print(\"-- Setting initial setpoint\")\n",
    "startSetpoint = PositionNedYaw(0.0, 0.0, 0.0, 0.0)\n",
    "await drone.offboard.set_position_ned(startSetpoint)\n",
    "\n",
    "print(\"-- Starting offboard\")\n",
    "try:\n",
    "    await drone.offboard.start()\n",
    "except OffboardError as error:\n",
    "    print(f\"Starting offboard mode failed with error code:\"\n",
    "            f\" {error._result.result}\")\n",
    "    print(\"-- Disarming\")\n",
    "    await drone.action.disarm()\n",
    "\n",
    "await asyncio.sleep(10)\n",
    "await drone.offboard.set_position_ned(PositionNedYaw(2,2,-5,0))\n",
    "await asyncio.sleep(10)\n",
    "await drone.offboard.set_position_ned(PositionNedYaw(2,-2,-5,0))\n",
    "await asyncio.sleep(10)\n",
    "await drone.offboard.set_position_ned(PositionNedYaw(-2,-2,-5,0))\n",
    "await asyncio.sleep(10)\n",
    "await drone.offboard.set_position_ned(PositionNedYaw(-2,2,-5,0))\n",
    "await asyncio.sleep(10)\n"
   ]
  }
 ],
 "metadata": {
  "kernelspec": {
   "display_name": "Python 3",
   "language": "python",
   "name": "python3"
  },
  "language_info": {
   "codemirror_mode": {
    "name": "ipython",
    "version": 3
   },
   "file_extension": ".py",
   "mimetype": "text/x-python",
   "name": "python",
   "nbconvert_exporter": "python",
   "pygments_lexer": "ipython3",
   "version": "3.10.12"
  },
  "orig_nbformat": 4
 },
 "nbformat": 4,
 "nbformat_minor": 2
}
