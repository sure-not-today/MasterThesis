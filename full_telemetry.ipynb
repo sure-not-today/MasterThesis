{
 "cells": [
  {
   "cell_type": "code",
   "execution_count": 1,
   "metadata": {},
   "outputs": [
    {
     "name": "stdout",
     "output_type": "stream",
     "text": [
      "Waiting for drone to connect...\n",
      "-- Connected to drone!\n",
      "-- Global position state is good enough for flying.\n",
      "Position: [latitude_deg: 47.397742, longitude_deg: 8.545593799999999, absolute_altitude_m: 488.00201416015625, relative_altitude_m: 0.006000000052154064]\n",
      "Position: [latitude_deg: 47.3977419, longitude_deg: 8.5455939, absolute_altitude_m: 487.99603271484375, relative_altitude_m: 0.0]\n",
      "False\n",
      "Battery: [id: 0, voltage_v: 16.200000762939453, remaining_percent: 1.0]\n",
      "GpsGlobalOrigin: [latitude_deg: 47.3977418, longitude_deg: 8.545594, altitude_m: 488.02203369140625]\n",
      "GpsInfo: [num_satellites: 10, fix_type: FIX_3D]\n",
      "POSCTL\n",
      "False\n",
      "ON_GROUND\n",
      "Odometry: [time_usec: 1690986208670000, frame_id: BODY_NED, child_frame_id: BODY_NED, position_body: PositionBody: [x_m: 0.01577904261648655, y_m: -0.008052552118897438, z_m: 0.03342733159661293], q: Quaternion: [w: 0.9998989105224609, x: 0.004482124466449022, y: -0.003412512131035328, z: 0.013057648204267025, timestamp_us: 0], velocity_body: VelocityBody: [x_m_s: 0.004229820799082518, y_m_s: -0.0017683665500953794, z_m_s: 0.009112358093261719], angular_velocity_body: AngularVelocityBody: [roll_rad_s: 0.0009644003002904356, pitch_rad_s: 0.013070383109152317, yaw_rad_s: -0.0006810299237258732], pose_covariance: Covariance: [covariance_matrix: [0.007352618034929037, nan, nan, nan, nan, nan, 0.007352692540735006, nan, nan, nan, nan, 0.015332364477217197, nan, nan, nan, 0.0001762995816534385, nan, nan, 0.0001760619052220136, nan, 0.0002959621779154986]], velocity_covariance: Covariance: [covariance_matrix: [0.00329472403973341, nan, nan, nan, nan, nan, 0.003295070258900523, nan, nan, nan, nan, 0.004867281299084425, nan, nan, nan, nan, nan, nan, nan, nan, nan]]]\n",
      "PositionVelocityNed: [position: PositionNed: [north_m: 0.01579614356160164, east_m: -0.00813981518149376, down_m: 0.033468637615442276], velocity: VelocityNed: [north_m_s: 0.004535507410764694, east_m_s: -0.0013649746542796493, down_m_s: 0.008627704344689846]]\n",
      "PositionNed: [north_m: 0.01579614356160164, east_m: -0.00813981518149376, down_m: 0.033468637615442276]\n",
      "VelocityNed: [north_m_s: 0.004535507410764694, east_m_s: -0.0013649746542796493, down_m_s: 0.008627704344689846]\n",
      "VelocityNed: [north_m_s: 0.0, east_m_s: 0.0, down_m_s: 0.0]\n"
     ]
    }
   ],
   "source": [
    "import asyncio\n",
    "from mavsdk import System\n",
    "\n",
    "drone = System()\n",
    "await drone.connect(system_address=\"udp://:14540\")\n",
    "\n",
    "print(\"Waiting for drone to connect...\")\n",
    "async for state in drone.core.connection_state():\n",
    "    if state.is_connected:\n",
    "        print(f\"-- Connected to drone!\")\n",
    "        break\n",
    "\n",
    "async for health in drone.telemetry.health():\n",
    "    if health.is_global_position_ok and health.is_home_position_ok:\n",
    "        print(\"-- Global position state is good enough for flying.\")\n",
    "        break\n",
    "\n",
    "\n",
    "position = await drone.telemetry.position().__aiter__().__anext__()\n",
    "print(position)\n",
    "home = await drone.telemetry.home().__aiter__().__anext__()\n",
    "print(home)\n",
    "armed = await drone.telemetry.armed().__aiter__().__anext__()\n",
    "print(armed)\n",
    "battery = await drone.telemetry.battery().__aiter__().__anext__()\n",
    "print(battery)\n",
    "gps_global_origin = await drone.telemetry.get_gps_global_origin()\n",
    "print(gps_global_origin)\n",
    "gps_info = await drone.telemetry.gps_info().__aiter__().__anext__()\n",
    "print(gps_info)\n",
    "flight_mode = await drone.telemetry.flight_mode().__aiter__().__anext__()\n",
    "print(flight_mode)\n",
    "in_air = await drone.telemetry.in_air().__aiter__().__anext__()\n",
    "print(in_air)\n",
    "landed_state = await drone.telemetry.landed_state().__aiter__().__anext__()\n",
    "print(landed_state)\n",
    "odometry = await drone.telemetry.odometry().__aiter__().__anext__()\n",
    "print(odometry)\n",
    "position_velocity_ned = await drone.telemetry.position_velocity_ned().__aiter__().__anext__()\n",
    "print(position_velocity_ned)\n",
    "print(position_velocity_ned.position)\n",
    "print(position_velocity_ned.velocity)\n",
    "velocity_ned = await drone.telemetry.velocity_ned().__aiter__().__anext__()\n",
    "print(velocity_ned)\n",
    "\n",
    "\n"
   ]
  }
 ],
 "metadata": {
  "kernelspec": {
   "display_name": "Python 3",
   "language": "python",
   "name": "python3"
  },
  "language_info": {
   "codemirror_mode": {
    "name": "ipython",
    "version": 3
   },
   "file_extension": ".py",
   "mimetype": "text/x-python",
   "name": "python",
   "nbconvert_exporter": "python",
   "pygments_lexer": "ipython3",
   "version": "3.10.12"
  },
  "orig_nbformat": 4
 },
 "nbformat": 4,
 "nbformat_minor": 2
}
