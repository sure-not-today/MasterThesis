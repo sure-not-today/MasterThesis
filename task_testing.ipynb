{
 "cells": [
  {
   "cell_type": "code",
   "execution_count": 7,
   "metadata": {},
   "outputs": [
    {
     "name": "stdout",
     "output_type": "stream",
     "text": [
      "Waiting for 5 seconds.\n",
      "False\n",
      "Done waiting.\n",
      "True\n",
      "5\n"
     ]
    }
   ],
   "source": [
    "import asyncio\n",
    "\n",
    "async def wait(t):\n",
    "    print(f\"Waiting for {t} seconds.\")\n",
    "    await asyncio.sleep(t)\n",
    "    print(\"Done waiting.\")\n",
    "    return t\n",
    "\n",
    "\n",
    "task = asyncio.create_task(wait(5))\n",
    "await asyncio.sleep(2)\n",
    "print(task.done())\n",
    "await asyncio.wait(task)\n",
    "await asyncio.sleep(5)\n",
    "print(task.done())\n",
    "print(task.result())"
   ]
  }
 ],
 "metadata": {
  "kernelspec": {
   "display_name": "Python 3",
   "language": "python",
   "name": "python3"
  },
  "language_info": {
   "codemirror_mode": {
    "name": "ipython",
    "version": 3
   },
   "file_extension": ".py",
   "mimetype": "text/x-python",
   "name": "python",
   "nbconvert_exporter": "python",
   "pygments_lexer": "ipython3",
   "version": "3.10.12"
  },
  "orig_nbformat": 4
 },
 "nbformat": 4,
 "nbformat_minor": 2
}
